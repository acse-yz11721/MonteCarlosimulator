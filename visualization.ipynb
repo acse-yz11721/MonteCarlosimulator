{
 "cells": [
  {
   "cell_type": "markdown",
   "id": "0f3b0817",
   "metadata": {},
   "source": [
    "### This notebook is used to create a gif"
   ]
  },
  {
   "cell_type": "code",
   "execution_count": 1,
   "id": "89d13a18",
   "metadata": {},
   "outputs": [],
   "source": [
    "import imageio\n",
    "import base64\n",
    "import os\n",
    "import json"
   ]
  },
  {
   "cell_type": "code",
   "execution_count": 3,
   "id": "1555d9c4-1b1f-4f51-8f93-2bb7b366b17d",
   "metadata": {},
   "outputs": [],
   "source": [
    "js = json.load(open('step_plot.ipynb','r',encoding='utf-8'))"
   ]
  },
  {
   "cell_type": "markdown",
   "id": "4ac0e94b",
   "metadata": {},
   "source": [
    "### Find key\n",
    "In order to quickly find a specific key from nested JSON I copy paste the JsonPathFinder from github\n",
    "https://github.com/kingname/JsonPathFinder"
   ]
  },
  {
   "cell_type": "code",
   "execution_count": 4,
   "id": "823ca37a-d60e-450f-8db7-f673a859c3ce",
   "metadata": {},
   "outputs": [],
   "source": [
    "from typing import List\n",
    "\n",
    "\n",
    "class JsonPathFinder:\n",
    "    def __init__(self, json_content, mode='key'):\n",
    "        self.data = json_content\n",
    "        self.mode = mode\n",
    "\n",
    "    def iter_node(self, rows, road_step, target):\n",
    "        if isinstance(rows, dict):\n",
    "            key_value_iter = (x for x in rows.items())\n",
    "        elif isinstance(rows, list):\n",
    "            key_value_iter = (x for x in enumerate(rows))\n",
    "        else:\n",
    "            return\n",
    "        for key, value in key_value_iter:\n",
    "            current_path = road_step.copy()\n",
    "            current_path.append(key)\n",
    "            if self.mode == 'key':\n",
    "                check = key\n",
    "            else:\n",
    "                check = value\n",
    "            if check == target:\n",
    "                yield current_path\n",
    "            if isinstance(value, (dict, list)):\n",
    "                yield from self.iter_node(value, current_path, target)\n",
    "\n",
    "    def find_one(self, target: str) -> list:\n",
    "        path_iter = self.iter_node(self.data, [], target)\n",
    "        for path in path_iter:\n",
    "            return path\n",
    "        return []\n",
    "\n",
    "    def find_all(self, target) -> List[list]:\n",
    "        path_iter = self.iter_node(self.data, [], target)\n",
    "        return list(path_iter)"
   ]
  },
  {
   "cell_type": "markdown",
   "id": "347ff813",
   "metadata": {},
   "source": [
    "### Save pictures\n",
    "I used the following code to find and decode the image and save them as png format"
   ]
  },
  {
   "cell_type": "code",
   "execution_count": 5,
   "id": "04e07b89-343a-4f5c-8fec-7e78b851e54e",
   "metadata": {},
   "outputs": [
    {
     "name": "stdout",
     "output_type": "stream",
     "text": [
      "Start the Search by Key...\n",
      "Search is completed\n",
      "Finished saving!\n"
     ]
    }
   ],
   "source": [
    "print('Start the Search by Key...')\n",
    "finder = JsonPathFinder(js)\n",
    "path_list = finder.find_all('image/png')\n",
    "print('Search is completed')\n",
    "\n",
    "for i in range(len(path_list)):\n",
    "    content = js[path_list[i][0]][path_list[i][1]]\n",
    "    image = content[path_list[i][2]][path_list[i][3]][path_list[i][4]][path_list[i][5]]\n",
    "    image_data = base64.b64decode(image)\n",
    "    \n",
    "    image_url = './postprocessing/pics/' + str(i + 1) + '.png'\n",
    "    \n",
    "    with open(image_url, 'wb') as f:\n",
    "        f.write(image_data)\n",
    "\n",
    "print(\"Finished saving!\")"
   ]
  },
  {
   "cell_type": "markdown",
   "id": "aa6749f4",
   "metadata": {},
   "source": [
    "### Generating gif\n",
    "We now can generate a gif using the png files that we've just saved."
   ]
  },
  {
   "cell_type": "code",
   "execution_count": 6,
   "id": "14e20e76-8d02-4eeb-a1bb-8c981ecef5ee",
   "metadata": {},
   "outputs": [
    {
     "name": "stdout",
     "output_type": "stream",
     "text": [
      "['1.png', '2.png', '3.png', '4.png', '5.png', '6.png', '7.png', '8.png', '9.png', '10.png', '11.png', '12.png', '13.png', '14.png', '15.png', '16.png', '17.png', '18.png', '19.png', '20.png', '21.png']\n"
     ]
    }
   ],
   "source": [
    "path = './postprocessing/pics/'\n",
    "pathes = []\n",
    "\n",
    "\n",
    "# list the \".npy\" files\n",
    "def GetFileList(dir, fileList): \n",
    "    if os.path.isfile(dir): \n",
    "        print(\"please input a dir!\")\n",
    "    elif os.path.isdir(dir):\n",
    "        for s in os.listdir(dir):\n",
    "            fileList.append(s)\n",
    "    fileList = [t for t in fileList if '.png' in t]\n",
    "    list_final = [str(i+1) + \".png\" for i in range(len(fileList))]\n",
    "    return list_final\n",
    "\n",
    "file_list = GetFileList('./postprocessing/pics', [])\n",
    "print(file_list)\n",
    "\n",
    "\n",
    "images=[]\n",
    "for pic in file_list:\n",
    "    images.append(imageio.imread('./postprocessing/pics/' + pic))\n",
    " \n",
    "imageio.mimsave('./postprocessing/pics/plane.gif',images,duration=0.15)"
   ]
  }
 ],
 "metadata": {
  "kernelspec": {
   "display_name": "Python 3.9.12 ('ese-msc')",
   "language": "python",
   "name": "python3"
  },
  "language_info": {
   "codemirror_mode": {
    "name": "ipython",
    "version": 3
   },
   "file_extension": ".py",
   "mimetype": "text/x-python",
   "name": "python",
   "nbconvert_exporter": "python",
   "pygments_lexer": "ipython3",
   "version": "3.9.12"
  },
  "vscode": {
   "interpreter": {
    "hash": "08398911ca4587b792ebf98a0a4ad61afb8bcda3100c563a2f7564a5da9e181d"
   }
  }
 },
 "nbformat": 4,
 "nbformat_minor": 5
}
