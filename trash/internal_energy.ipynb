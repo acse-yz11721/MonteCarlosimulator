{
 "cells": [
  {
   "cell_type": "code",
   "execution_count": 9,
   "metadata": {},
   "outputs": [],
   "source": [
    "# external pacakges that we need\n",
    "import os\n",
    "from time import time\n",
    "import numpy as np\n",
    "import discretisedfield as df\n",
    "import micromagneticmodel as mm\n",
    "import oommfc as oc\n",
    "import matplotlib.pyplot as plt\n",
    "%matplotlib inline\n",
    "\n",
    "# my own package\n",
    "from continuous_model.simulator import *\n",
    "from continuous_model.plot_model import plot_field\n"
   ]
  },
  {
   "cell_type": "code",
   "execution_count": 2,
   "metadata": {},
   "outputs": [
    {
     "name": "stdout",
     "output_type": "stream",
     "text": [
      "['1.npy', '2.npy', '3.npy', '4.npy', '5.npy', '6.npy', '7.npy', '8.npy', '9.npy', '10.npy', '11.npy', '12.npy', '13.npy', '14.npy', '15.npy', '16.npy', '17.npy', '18.npy', '19.npy', '20.npy', '21.npy', '22.npy', '23.npy', '24.npy', '25.npy', '26.npy', '27.npy', '28.npy', '29.npy', '30.npy', '31.npy', '32.npy', '33.npy', '34.npy', '35.npy', '36.npy', '37.npy', '38.npy', '39.npy', '40.npy', '41.npy', '42.npy', '43.npy', '44.npy', '45.npy', 'final.npy']\n"
     ]
    }
   ],
   "source": [
    "# list the \".npy\" files\n",
    "def GetFileList(dir, fileList): \n",
    "    if os.path.isfile(dir): \n",
    "        print(\"input must be a dir!\")\n",
    "    elif os.path.isdir(dir):\n",
    "        for s in os.listdir(dir):\n",
    "            fileList.append(s)\n",
    "    fileList = [t for t in fileList if '.npy' in t]\n",
    "    fileList.remove(\"final.npy\")\n",
    "    list_final = [str(i+1) + \".npy\" for i in range(len(fileList))]\n",
    "    list_final.append(\"final.npy\")\n",
    "    return list_final\n",
    "\n",
    "npy_list = GetFileList('./iterations_40/', [])\n",
    "print(npy_list)"
   ]
  },
  {
   "cell_type": "code",
   "execution_count": 43,
   "metadata": {},
   "outputs": [],
   "source": [
    "# ans = os.sep.join(('iterations',npy_list[20]))\n",
    "# print(ans)"
   ]
  },
  {
   "cell_type": "code",
   "execution_count": 3,
   "metadata": {},
   "outputs": [],
   "source": [
    "# Define several parameters\n",
    "Ms = 3.84e5\n",
    "A = 8.78e-12  # A/m\n",
    "D = 1.58e-3\n",
    "B = 0.1\n",
    "mu0 = 4 * np.pi * 1e-7"
   ]
  },
  {
   "cell_type": "code",
   "execution_count": 5,
   "metadata": {},
   "outputs": [
    {
     "name": "stdout",
     "output_type": "stream",
     "text": [
      "[3.523449710163511e-18, 3.4583798509596654e-18, 3.355517571674372e-18, 3.2463424674264243e-18, 3.11430656869069e-18, 2.989059533769614e-18, 2.8309232203489518e-18, 2.635804322733423e-18, 2.4695817937881562e-18, 2.272188430233004e-18, 2.04525620919985e-18, 1.8108918201469776e-18, 1.5846536806099855e-18, 1.3632839129154364e-18, 1.1093148600690049e-18, 8.90191492828338e-19, 6.202681068806054e-19, 3.954310516691387e-19, 1.1075271567037017e-19, -1.5559477038375136e-19, -4.4899418791633225e-19, -7.199240929592175e-19, -1.0120804675179131e-18, -1.3018997734535486e-18, -1.576642327428346e-18, -1.8008467515629303e-18, -2.0681215132733305e-18, -2.3203111244683055e-18, -2.565946308498272e-18, -2.809288968481756e-18, -3.058069314051696e-18, -3.2822197340197574e-18, -3.577720797844888e-18, -3.864609619349617e-18, -4.09820587013906e-18, -4.331282527203107e-18, -4.581644523459542e-18, -4.759749619946783e-18, -5.004630161281766e-18, -5.232132657699788e-18, -5.4410188556781776e-18, -5.65476749823439e-18, -5.878307514497269e-18, -6.094819659493497e-18, -6.275932447101942e-18, -6.477967233932096e-18]\n"
     ]
    }
   ],
   "source": [
    "y_list = []\n",
    "for i in range(len(npy_list)):\n",
    "    current_state = np.load(os.sep.join(('iterations_40',npy_list[i])))\n",
    "    \n",
    "    nx = current_state.shape[0]\n",
    "    ny = current_state.shape[1]\n",
    "    nz = current_state.shape[2]\n",
    "\n",
    "\n",
    "    my_cool_mesh = RectangularMesh(nx=nx, ny=ny, nz=nz, units=5e-9)\n",
    "    my_cool_m = m_Field(my_cool_mesh, Ms, current_state)\n",
    "    \n",
    "    current_E = Exchange(A=A).energy(my_cool_m) + DMI(D=D).energy(my_cool_m) + Zeeman(H=[0, 0, B/mu0]).energy(my_cool_m)\n",
    "    y_list.append(current_E)\n",
    "\n",
    "print(y_list)"
   ]
  },
  {
   "cell_type": "code",
   "execution_count": 13,
   "metadata": {},
   "outputs": [],
   "source": [
    "# y_list = [i * 10 ** 19 for i in y_list]\n",
    "# print(y_list)\n",
    "# print(len(y_list))"
   ]
  },
  {
   "cell_type": "code",
   "execution_count": 6,
   "metadata": {},
   "outputs": [
    {
     "name": "stdout",
     "output_type": "stream",
     "text": [
      "46\n"
     ]
    }
   ],
   "source": [
    "x = np.linspace(0, 40000000, 46)\n",
    "print(len(x))"
   ]
  },
  {
   "cell_type": "code",
   "execution_count": 7,
   "metadata": {},
   "outputs": [
    {
     "data": {
      "text/plain": [
       "[<matplotlib.lines.Line2D at 0x7fa7e87d8c10>]"
      ]
     },
     "execution_count": 7,
     "metadata": {},
     "output_type": "execute_result"
    },
    {
     "data": {
      "image/png": "[encoded data removed]",
      "text/plain": [
       "<Figure size 360x360 with 1 Axes>"
      ]
     },
     "metadata": {
      "needs_background": "light"
     },
     "output_type": "display_data"
    }
   ],
   "source": [
    "fig = plt.figure(figsize=(5, 5))\n",
    "\n",
    "ax1 = fig.add_subplot(111)\n",
    "\n",
    "ax1.set_xlabel(\"$step$\", fontsize=14)\n",
    "ax1.set_ylabel(\"$Internal Energy$\", fontsize=14)\n",
    "ax1.set_title('5 different temperature', fontsize=14)\n",
    "ax1.grid(True)\n",
    "\n",
    "ax1.plot(x, y_list, color='r',marker='o',linestyle='-.',alpha=0.5, label='$2x+3y=7$')\n",
    "# ax1.plot(x,y2,'r', label='$x-4y=3$')\n",
    "\n",
    "# ax1.legend(loc='best', fontsize=14)"
   ]
  },
  {
   "cell_type": "code",
   "execution_count": null,
   "metadata": {},
   "outputs": [],
   "source": []
  },
  {
   "cell_type": "code",
   "execution_count": 7,
   "metadata": {},
   "outputs": [
    {
     "data": {
      "image/png": "[encoded data removed]",
      "text/plain": [
       "<Figure size 432x288 with 1 Axes>"
      ]
     },
     "metadata": {
      "needs_background": "light"
     },
     "output_type": "display_data"
    }
   ],
   "source": [
    "# plt.plot(x,y_list,color='r',marker='o',linestyle='-.',alpha=0.5)\n",
    "# plt.show()"
   ]
  },
  {
   "cell_type": "code",
   "execution_count": 1,
   "metadata": {},
   "outputs": [],
   "source": [
    "from matplotlib import pyplot as plt\n",
    "import numpy as np\n",
    "import matplotlib as mpl\n",
    "mpl.rcParams['font.sans-serif'] = ['SimHei']  # 中文字体支持"
   ]
  },
  {
   "cell_type": "code",
   "execution_count": 2,
   "metadata": {},
   "outputs": [
    {
     "data": {
      "image/png": "[encoded data removed]",
      "text/plain": [
       "<Figure size 432x288 with 1 Axes>"
      ]
     },
     "metadata": {
      "needs_background": "light"
     },
     "output_type": "display_data"
    }
   ],
   "source": [
    "import matplotlib.pyplot as plt\n",
    "import numpy as np\n",
    "\n",
    "\n",
    "labels = ['(2, 2, 2)', '(5, 5, 5)', '(10, 10, 10)']\n",
    "method_1 = [31, 834, 9085]\n",
    "method_2 = [24, 604, 5800]\n",
    "\n",
    "x = np.arange(len(labels))  # the label locations\n",
    "width = 0.35  # the width of the bars\n",
    "\n",
    "fig, ax = plt.subplots()\n",
    "rects1 = ax.bar(x - width/2, method_1, width, label='Method 1')\n",
    "rects2 = ax.bar(x + width/2, method_2, width, label='Method 2')\n",
    "\n",
    "# Add some text for labels, title and custom x-axis tick labels, etc.\n",
    "ax.set_xlabel('mesh size')\n",
    "ax.set_ylabel('Seconds')\n",
    "ax.set_title('Runtime by mesh size and method')\n",
    "ax.set_xticks(x, labels)\n",
    "ax.legend()\n",
    "\n",
    "ax.bar_label(rects1, padding=3)\n",
    "ax.bar_label(rects2, padding=3)\n",
    "\n",
    "# fig.tight_layout()\n",
    "\n",
    "plt.show()\n"
   ]
  }
 ],
 "metadata": {
  "kernelspec": {
   "display_name": "Python 3.9.12 ('ese-msc')",
   "language": "python",
   "name": "python3"
  },
  "language_info": {
   "codemirror_mode": {
    "name": "ipython",
    "version": 3
   },
   "file_extension": ".py",
   "mimetype": "text/x-python",
   "name": "python",
   "nbconvert_exporter": "python",
   "pygments_lexer": "ipython3",
   "version": "3.9.12"
  },
  "orig_nbformat": 4,
  "vscode": {
   "interpreter": {
    "hash": "08398911ca4587b792ebf98a0a4ad61afb8bcda3100c563a2f7564a5da9e181d"
   }
  }
 },
 "nbformat": 4,
 "nbformat_minor": 2
}
